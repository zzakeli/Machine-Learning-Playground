{
 "cells": [
  {
   "cell_type": "code",
   "execution_count": 14,
   "id": "0a1617bb",
   "metadata": {},
   "outputs": [],
   "source": [
    "import pandas as pd\n",
    "import numpy as np\n",
    "import matplotlib.pyplot as plt\n",
    "from sklearn.linear_model import Ridge\n",
    "from sklearn.metrics import mean_squared_error"
   ]
  },
  {
   "cell_type": "code",
   "execution_count": 15,
   "id": "3943734c",
   "metadata": {},
   "outputs": [
    {
     "name": "stdout",
     "output_type": "stream",
     "text": [
      "   Employee_ID    Name  Age             Gender    Country         Job_Role  \\\n",
      "0            1  User_1   28             Female     Canada      QA Engineer   \n",
      "1            2  User_2   41  Prefer not to say  Australia  DevOps Engineer   \n",
      "2            3  User_3   36               Male    Germany   UI/UX Designer   \n",
      "3            4  User_4   32  Prefer not to say    Germany  Product Manager   \n",
      "4            5  User_5   29               Male         UK  DevOps Engineer   \n",
      "\n",
      "   Experience_Years Work_Mode  Hours_Worked_Per_Week  Productivity_Score  \\\n",
      "0               5.4    Onsite                   45.4                 6.6   \n",
      "1              10.5    Remote                   40.4                 8.4   \n",
      "2              11.9    Hybrid                   43.6                 6.6   \n",
      "3              15.6    Hybrid                   41.3                 9.0   \n",
      "4               1.8    Hybrid                   42.5                 6.9   \n",
      "\n",
      "  Mental_Health_Status  Burnout_Score  Sleep_Hours_Per_Day Exercise_Frequency  \\\n",
      "0                 Poor             44                  5.7             Rarely   \n",
      "1                 Good             58                  5.1              Daily   \n",
      "2                 Good             78                  6.1              Never   \n",
      "3             Moderate             71                  5.4             Rarely   \n",
      "4                 Poor             69                  7.1              Never   \n",
      "\n",
      "   Work_Life_Balance_Rating  Has_Access_To_Therapist  \\\n",
      "0                       7.5                     True   \n",
      "1                       8.6                    False   \n",
      "2                       6.2                    False   \n",
      "3                       8.5                     True   \n",
      "4                       6.0                     True   \n",
      "\n",
      "   Willing_To_Return_Onsite  Remote_Setup_Satisfaction  \\\n",
      "0                     False                        9.9   \n",
      "1                      True                        2.5   \n",
      "2                     False                        9.1   \n",
      "3                      True                        6.1   \n",
      "4                      True                        9.3   \n",
      "\n",
      "  Internet_Issues_Frequency  Team_Communication_Effectiveness  \n",
      "0                 Sometimes                               7.7  \n",
      "1                     Often                               9.0  \n",
      "2                     Often                               7.7  \n",
      "3                 Sometimes                               8.4  \n",
      "4                     Never                               4.7  \n"
     ]
    }
   ],
   "source": [
    "df = pd.read_csv(\"datasets/mental_health_remote_workers.csv\")\n",
    "print(df.head())"
   ]
  },
  {
   "cell_type": "code",
   "execution_count": 16,
   "id": "0b221c18",
   "metadata": {},
   "outputs": [
    {
     "name": "stdout",
     "output_type": "stream",
     "text": [
      "Employee_ID                         False\n",
      "Name                                False\n",
      "Age                                 False\n",
      "Gender                              False\n",
      "Country                             False\n",
      "Job_Role                            False\n",
      "Experience_Years                    False\n",
      "Work_Mode                           False\n",
      "Hours_Worked_Per_Week               False\n",
      "Productivity_Score                  False\n",
      "Mental_Health_Status                False\n",
      "Burnout_Score                       False\n",
      "Sleep_Hours_Per_Day                 False\n",
      "Exercise_Frequency                  False\n",
      "Work_Life_Balance_Rating            False\n",
      "Has_Access_To_Therapist             False\n",
      "Willing_To_Return_Onsite            False\n",
      "Remote_Setup_Satisfaction           False\n",
      "Internet_Issues_Frequency           False\n",
      "Team_Communication_Effectiveness    False\n",
      "dtype: bool\n"
     ]
    }
   ],
   "source": [
    "print(df.isna().any())"
   ]
  },
  {
   "cell_type": "code",
   "execution_count": 17,
   "id": "c587936d",
   "metadata": {},
   "outputs": [
    {
     "name": "stdout",
     "output_type": "stream",
     "text": [
      "['Canada' 'Australia' 'Germany' 'UK' 'Brazil' 'India' 'USA']\n",
      "['QA Engineer' 'DevOps Engineer' 'UI/UX Designer' 'Product Manager'\n",
      " 'Data Scientist' 'Developer']\n",
      "['Onsite' 'Remote' 'Hybrid']\n",
      "['Poor' 'Good' 'Moderate']\n",
      "['Rarely' 'Daily' 'Never' '2-3x/Week']\n",
      "[ True False]\n",
      "[False  True]\n",
      "['Sometimes' 'Often' 'Never']\n"
     ]
    }
   ],
   "source": [
    "print(df['Country'].unique())\n",
    "print(df['Job_Role'].unique())\n",
    "print(df['Work_Mode'].unique())\n",
    "print(df['Mental_Health_Status'].unique())\n",
    "print(df['Exercise_Frequency'].unique())\n",
    "print(df['Has_Access_To_Therapist'].unique())\n",
    "print(df['Willing_To_Return_Onsite'].unique())\n",
    "print(df['Internet_Issues_Frequency'].unique())\n"
   ]
  },
  {
   "cell_type": "code",
   "execution_count": 18,
   "id": "49680f07",
   "metadata": {},
   "outputs": [],
   "source": [
    "\"\"\"\n",
    "Gender\n",
    "Country (drop)\n",
    "Job_Role\n",
    "Work_Mode\n",
    "Mental_Health_Status\n",
    "Exercise_Frequency\n",
    "Has_Access_To_Therapist\n",
    "Willing_To_Return_Onsite\n",
    "Internet_Issues_Frequency\n",
    "\"\"\"\n",
    "\n",
    "df['Gender'] = df['Gender'].map({'Male': 0, \n",
    "                                 'Female': 1,\n",
    "                                 'Non-binary': 3,\n",
    "                                 'Prefer not to say': 4})\n",
    "\n",
    "df['Country'] = df['Country'].map({'Canada': 0,\n",
    "                                   'Australia': 1,\n",
    "                                   'Germany': 2,\n",
    "                                   'UK': 3,\n",
    "                                   'Brazil': 4,\n",
    "                                   'India': 5,\n",
    "                                    'USA': 6,\n",
    "                                    })\n",
    "\"\"\"\n",
    "['Canada' 'Australia' 'Germany' 'UK' 'Brazil' 'India' 'USA']\n",
    "['QA Engineer' 'DevOps Engineer' 'UI/UX Designer' 'Product Manager'\n",
    " 'Data Scientist' 'Developer']\n",
    "\"\"\"\n",
    "df['Job_Role'] = df['Job_Role'].map({'QA Engineer': 0,\n",
    "                                     'DevOps Engineer': 1,\n",
    "                                     'UI/UX Designer': 2,\n",
    "                                     'Product Manager': 3,\n",
    "                                     'Data Scientist': 4,\n",
    "                                     'Developer': 5})\n",
    "\n",
    "df['Work_Mode'] = df['Work_Mode'].map({'Onsite': 0,\n",
    "                                       'Remote': 1,\n",
    "                                       'Hybrid': 2})\n",
    "\n",
    "df['Mental_Health_Status'] = df['Mental_Health_Status'].map({'Poor': 0,\n",
    "                                                             'Good': 1,\n",
    "                                                             'Moderate': 2})\n",
    "#['Rarely' 'Daily' 'Never' '2-3x/Week']\n",
    "df['Exercise_Frequency'] = df['Exercise_Frequency'].map({'Rarely': 0,\n",
    "                                                         'Daily': 1,\n",
    "                                                         'Never': 2,\n",
    "                                                         '2-3x/Week': 3})\n",
    "\n",
    "df['Has_Access_To_Therapist'] = df['Has_Access_To_Therapist'].map({True: 0, False: 1})\n",
    "\n",
    "df['Willing_To_Return_Onsite'] = df['Willing_To_Return_Onsite'].map({True: 0, False: 1})\n",
    "\n",
    "df['Internet_Issues_Frequency'] = df['Internet_Issues_Frequency'].map({'Sometimes': 0,\n",
    "                                                                       'Often': 1,\n",
    "                                                                       'Never': 2})"
   ]
  },
  {
   "cell_type": "code",
   "execution_count": 19,
   "id": "73a813be",
   "metadata": {},
   "outputs": [
    {
     "name": "stdout",
     "output_type": "stream",
     "text": [
      "   Employee_ID    Name  Age  Gender  Country  Job_Role  Experience_Years  \\\n",
      "0            1  User_1   28       1        0         0               5.4   \n",
      "1            2  User_2   41       4        1         1              10.5   \n",
      "2            3  User_3   36       0        2         2              11.9   \n",
      "3            4  User_4   32       4        2         3              15.6   \n",
      "4            5  User_5   29       0        3         1               1.8   \n",
      "\n",
      "   Work_Mode  Hours_Worked_Per_Week  Productivity_Score  Mental_Health_Status  \\\n",
      "0          0                   45.4                 6.6                     0   \n",
      "1          1                   40.4                 8.4                     1   \n",
      "2          2                   43.6                 6.6                     1   \n",
      "3          2                   41.3                 9.0                     2   \n",
      "4          2                   42.5                 6.9                     0   \n",
      "\n",
      "   Burnout_Score  Sleep_Hours_Per_Day  Exercise_Frequency  \\\n",
      "0             44                  5.7                   0   \n",
      "1             58                  5.1                   1   \n",
      "2             78                  6.1                   2   \n",
      "3             71                  5.4                   0   \n",
      "4             69                  7.1                   2   \n",
      "\n",
      "   Work_Life_Balance_Rating  Has_Access_To_Therapist  \\\n",
      "0                       7.5                        0   \n",
      "1                       8.6                        1   \n",
      "2                       6.2                        1   \n",
      "3                       8.5                        0   \n",
      "4                       6.0                        0   \n",
      "\n",
      "   Willing_To_Return_Onsite  Remote_Setup_Satisfaction  \\\n",
      "0                         1                        9.9   \n",
      "1                         0                        2.5   \n",
      "2                         1                        9.1   \n",
      "3                         0                        6.1   \n",
      "4                         0                        9.3   \n",
      "\n",
      "   Internet_Issues_Frequency  Team_Communication_Effectiveness  \n",
      "0                          0                               7.7  \n",
      "1                          1                               9.0  \n",
      "2                          1                               7.7  \n",
      "3                          0                               8.4  \n",
      "4                          2                               4.7  \n"
     ]
    }
   ],
   "source": [
    "print(df.head())"
   ]
  },
  {
   "cell_type": "code",
   "execution_count": 21,
   "id": "9bc1d35b",
   "metadata": {},
   "outputs": [
    {
     "name": "stdout",
     "output_type": "stream",
     "text": [
      "   Employee_ID  Age  Gender  Country  Job_Role  Experience_Years  Work_Mode  \\\n",
      "0            1   28       1        0         0               5.4          0   \n",
      "1            2   41       4        1         1              10.5          1   \n",
      "2            3   36       0        2         2              11.9          2   \n",
      "3            4   32       4        2         3              15.6          2   \n",
      "4            5   29       0        3         1               1.8          2   \n",
      "\n",
      "   Hours_Worked_Per_Week  Productivity_Score  Mental_Health_Status  \\\n",
      "0                   45.4                 6.6                     0   \n",
      "1                   40.4                 8.4                     1   \n",
      "2                   43.6                 6.6                     1   \n",
      "3                   41.3                 9.0                     2   \n",
      "4                   42.5                 6.9                     0   \n",
      "\n",
      "   Burnout_Score  Sleep_Hours_Per_Day  Exercise_Frequency  \\\n",
      "0             44                  5.7                   0   \n",
      "1             58                  5.1                   1   \n",
      "2             78                  6.1                   2   \n",
      "3             71                  5.4                   0   \n",
      "4             69                  7.1                   2   \n",
      "\n",
      "   Work_Life_Balance_Rating  Has_Access_To_Therapist  \\\n",
      "0                       7.5                        0   \n",
      "1                       8.6                        1   \n",
      "2                       6.2                        1   \n",
      "3                       8.5                        0   \n",
      "4                       6.0                        0   \n",
      "\n",
      "   Willing_To_Return_Onsite  Remote_Setup_Satisfaction  \\\n",
      "0                         1                        9.9   \n",
      "1                         0                        2.5   \n",
      "2                         1                        9.1   \n",
      "3                         0                        6.1   \n",
      "4                         0                        9.3   \n",
      "\n",
      "   Internet_Issues_Frequency  Team_Communication_Effectiveness  \n",
      "0                          0                               7.7  \n",
      "1                          1                               9.0  \n",
      "2                          1                               7.7  \n",
      "3                          0                               8.4  \n",
      "4                          2                               4.7  \n"
     ]
    }
   ],
   "source": [
    "df = df.drop('Name',axis=1)\n",
    "print(df.head())"
   ]
  },
  {
   "cell_type": "code",
   "execution_count": null,
   "id": "407bca65",
   "metadata": {},
   "outputs": [],
   "source": []
  }
 ],
 "metadata": {
  "kernelspec": {
   "display_name": "venv",
   "language": "python",
   "name": "python3"
  },
  "language_info": {
   "codemirror_mode": {
    "name": "ipython",
    "version": 3
   },
   "file_extension": ".py",
   "mimetype": "text/x-python",
   "name": "python",
   "nbconvert_exporter": "python",
   "pygments_lexer": "ipython3",
   "version": "3.10.8"
  }
 },
 "nbformat": 4,
 "nbformat_minor": 5
}
